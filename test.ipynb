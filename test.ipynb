{
 "metadata": {
  "language_info": {
   "codemirror_mode": {
    "name": "ipython",
    "version": 3
   },
   "file_extension": ".py",
   "mimetype": "text/x-python",
   "name": "python",
   "nbconvert_exporter": "python",
   "pygments_lexer": "ipython3",
   "version": "3.7.7-final"
  },
  "orig_nbformat": 2,
  "kernelspec": {
   "name": "python377jvsc74a57bd0318ad115214a4af8ad6e18cfd3e37d64f0b71b2b9c6fe5b42ddec07479e8947a",
   "display_name": "Python 3.7.7 64-bit"
  }
 },
 "nbformat": 4,
 "nbformat_minor": 2,
 "cells": [
  {
   "cell_type": "code",
   "execution_count": 3,
   "metadata": {},
   "outputs": [],
   "source": [
    "import pandas as pd\n",
    "import os\n",
    "import re\n",
    "import gzip\n"
   ]
  },
  {
   "cell_type": "code",
   "execution_count": 29,
   "metadata": {},
   "outputs": [],
   "source": [
    "def get_sequence_fasta(sequenceFile: str):\n",
    "    '''\n",
    "    args: input fasta file@str\n",
    "          fasta format\n",
    "    returns: @pd.DataFrame\n",
    "    '''\n",
    "    pattern = re.compile(r'^>')\n",
    "    sequences = []\n",
    "    with open(sequenceFile, 'r') as File:\n",
    "        for line in File:\n",
    "            if re.match(pattern, line):\n",
    "                sequenceId = \"\".join(line.split(\" \")[0].split(\":\")[-4:-1])\n",
    "            else:\n",
    "                sequenceLine = line.strip(\"\\n\")\n",
    "                sequences.append((sequenceId, sequenceLine))\n",
    "    outData = pd.DataFrame(sequences, columns=['seq_id', 'seq'])\n",
    "    return outData\n",
    "\n",
    "\n",
    "def reversed_sequence(sequence):\n",
    "    '''\n",
    "    reversed and complement the fasta sequences\n",
    "    '''\n",
    "    sequence = sequence.upper()[::-1]\n",
    "    basecomplement = {\n",
    "        \"A\": \"T\",\n",
    "        \"T\": \"A\",\n",
    "        \"G\": \"C\",\n",
    "        \"C\": \"G\",\n",
    "        'N':'N'\n",
    "    }\n",
    "    letters = list(sequence)\n",
    "    letters = [basecomplement[base] for base in letters]\n",
    "    return ''.join(letters)\n",
    "\n",
    "\n",
    "def fastq2fasta(fastqFile, reversedSeq=False):\n",
    "    '''transform fastaq to fasta\n",
    "     args:\n",
    "        -fastqFile: raw sequence fastaq file\n",
    "        -reverseseq: reversed and complement the R2 sequence\n",
    "    '''\n",
    "    try:\n",
    "        File = gzip.open(fastqFile, 'rt')\n",
    "        File.readline()\n",
    "        File.seek(0)\n",
    "    except:\n",
    "        File = open(fastqFile, 'rt')\n",
    "    out = []\n",
    "    index = 0\n",
    "    for line in File:\n",
    "        if index % 4 == 0:\n",
    "          #! sequence Id\n",
    "            sequenceId = \"\".join(line.split(\" \")[0].split(\":\")[-4:-1])\n",
    "            index += 1\n",
    "        elif index % 4 == 1:\n",
    "            #! sequence line\n",
    "            if reversedSeq:\n",
    "                sequenceLine = reversed_sequence(line.strip(\"\\n\"))\n",
    "                out.append((sequenceId, sequenceLine))\n",
    "            else:\n",
    "                sequenceLine = reversed_sequence(line.strip(\"\\n\"))\n",
    "                out.append((sequenceId, sequenceLine))\n",
    "            index += 1\n",
    "        else:\n",
    "            #! other line\n",
    "            index += 1\n",
    "    outSequence = pd.DataFrame(out, columns=['seq_id', 'seq'])\n",
    "    return(outSequence)\n"
   ]
  },
  {
   "cell_type": "code",
   "execution_count": 30,
   "metadata": {},
   "outputs": [],
   "source": [
    "a=fastq2fasta(\"./testData/test_R2.fq\",reversedSeq=True)\n",
    "b=fastq2fasta(\"./testData/test_R1.fq\",reversedSeq=False)"
   ]
  },
  {
   "cell_type": "code",
   "execution_count": 34,
   "metadata": {},
   "outputs": [],
   "source": [
    "#############################\n",
    "#!merge sequence\n",
    "#############################\n",
    "mergeSequence=pd.merge(left=a, right=b, left_on='seq_id', right_on='seq_id')"
   ]
  },
  {
   "cell_type": "code",
   "execution_count": 37,
   "metadata": {},
   "outputs": [],
   "source": [
    "barcodePattern=re.compile(r'[ATCG]*([ATCG]{9}TATAAGCGAAAGAAGCATCAGATGGGCAAACAAAGCACCAGTGGTCTAGTGGTAGAATAGTACCCTGCCACGGTACAGACCCGGGTTCGATTCCCGGCTGGTGCA.*TAAAATAAGGCTAGTCCGTTATCAACTTGAAAAAGTGGCACCGAGTCGGTGCTTTTTTGTTTTAGAGCTAGAAATAGCAAGTTAAAATAAGGCTAGTCCGTTTTTAGCGCGTGCATGCCTGCAGGTCCACAAATTCGGGTC[ATGC]{6})[ATCG]*')\n",
    "containBarcodeSequence=mergeSequence.apply(lambda x: x['seq_x']+x['seq_y'] if barcodePattern.match(x['seq_x']+x['seq_y']) else None ,axis=1)\n"
   ]
  },
  {
   "cell_type": "code",
   "execution_count": 39,
   "metadata": {},
   "outputs": [],
   "source": []
  },
  {
   "cell_type": "code",
   "execution_count": 41,
   "metadata": {},
   "outputs": [
    {
     "output_type": "execute_result",
     "data": {
      "text/plain": [
       "'GACGTCACGACCATG'"
      ]
     },
     "metadata": {},
     "execution_count": 41
    }
   ],
   "source": [
    "barcodeDict['R1-7~R2-2']"
   ]
  },
  {
   "cell_type": "code",
   "execution_count": 38,
   "metadata": {},
   "outputs": [
    {
     "output_type": "execute_result",
     "data": {
      "text/plain": [
       "0    None\n",
       "1    None\n",
       "2    None\n",
       "3    None\n",
       "4    None\n",
       "dtype: object"
      ]
     },
     "metadata": {},
     "execution_count": 38
    }
   ],
   "source": [
    "barcodesequence=[]\n",
    "for sequence in containBarcodeSequence:\n",
    "    if sequence:\n",
    "        barcode=sequence[0:9]+reversed_sequence(sequence)[0:6]\n",
    "        sgRNA=sequence[114:134]\n",
    "        barcodesequence.append((barcode,sgRNA))\n",
    "    else:\n",
    "        pass\n",
    "################################\n",
    "#!barcode and sgRNA sequence\n",
    "################################\n",
    "barcodeData=pd.DataFrame(barcodesequence,columns=['barcode','sgRNA'])\n",
    "outData=[]\n",
    "for barcodesequence in barcodeDict.keys():\n",
    "    sgRNAData=barcodeData.loc[barcodeData['barcode']==barcodesequence]\n",
    "    if sgRNAData.empty:\n",
    "        #! without sequence sgRNA\n",
    "        pass\n",
    "    else:\n",
    "        #! count the sgRNA number\n",
    "        totalCount=sgRNAData.shape[0]\n",
    "        sgRNAcount=dict(sgRNAData['sgRNA'].value_counts())\n",
    "        for key,value in sgRNAcount.items():\n",
    "            outData.append((\n",
    "                barcodeDict[barcodesequence],\n",
    "                barcodesequence, #barcode sequence\n",
    "                totalCount,     #barcode count\n",
    "                key,    #sgRNA sequence\n",
    "                value   #sgRNA count \n",
    "            ))\n",
    "\n",
    "outData=pd.DataFrame(outData,columns['barcodeID','barcodesequence','barcodeCount','sgRNAsequence','sgRNACount'])\n",
    "outData.to_csv()\n",
    "\n",
    "\n",
    "\n"
   ]
  },
  {
   "cell_type": "code",
   "execution_count": 44,
   "metadata": {},
   "outputs": [],
   "source": [
    "data=pd.DataFrame([\n",
    "    [0,0],\n",
    "    [0,1],\n",
    "    [2,1]\n",
    "])\n",
    "a=data[1].value_counts()"
   ]
  },
  {
   "cell_type": "code",
   "execution_count": 48,
   "metadata": {},
   "outputs": [
    {
     "output_type": "execute_result",
     "data": {
      "text/plain": [
       "{1: 2, 0: 1}"
      ]
     },
     "metadata": {},
     "execution_count": 48
    }
   ],
   "source": [
    "dict(a)"
   ]
  }
 ]
}